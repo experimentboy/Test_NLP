{
  "nbformat": 4,
  "nbformat_minor": 0,
  "metadata": {
    "colab": {
      "provenance": [],
      "authorship_tag": "ABX9TyOIWQGXVc8HQ/f/ynWIV7v5",
      "include_colab_link": true
    },
    "kernelspec": {
      "name": "python3",
      "display_name": "Python 3"
    },
    "language_info": {
      "name": "python"
    }
  },
  "cells": [
    {
      "cell_type": "markdown",
      "metadata": {
        "id": "view-in-github",
        "colab_type": "text"
      },
      "source": [
        "<a href=\"https://colab.research.google.com/github/experimentboy/Test_NLP/blob/main/Galactica_Base.ipynb\" target=\"_parent\"><img src=\"https://colab.research.google.com/assets/colab-badge.svg\" alt=\"Open In Colab\"/></a>"
      ]
    },
    {
      "cell_type": "markdown",
      "source": [
        "# *GALACTICA [base] Demo*\n",
        "\n",
        "\n",
        "## *All models are wrong, but some are useful.*\n",
        "## *George Box*"
      ],
      "metadata": {
        "id": "JDv8BQYwMSeC"
      }
    },
    {
      "cell_type": "code",
      "source": [
        "!pip install transformers accelerate"
      ],
      "metadata": {
        "colab": {
          "base_uri": "https://localhost:8080/"
        },
        "id": "e_Al2IrcMTPS",
        "outputId": "ef60ac27-eda9-4027-ab3d-74fd1e0d3760"
      },
      "execution_count": 1,
      "outputs": [
        {
          "output_type": "stream",
          "name": "stdout",
          "text": [
            "Looking in indexes: https://pypi.org/simple, https://us-python.pkg.dev/colab-wheels/public/simple/\n",
            "Requirement already satisfied: transformers in /usr/local/lib/python3.7/dist-packages (4.24.0)\n",
            "Requirement already satisfied: accelerate in /usr/local/lib/python3.7/dist-packages (0.14.0)\n",
            "Requirement already satisfied: tqdm>=4.27 in /usr/local/lib/python3.7/dist-packages (from transformers) (4.64.1)\n",
            "Requirement already satisfied: huggingface-hub<1.0,>=0.10.0 in /usr/local/lib/python3.7/dist-packages (from transformers) (0.11.0)\n",
            "Requirement already satisfied: regex!=2019.12.17 in /usr/local/lib/python3.7/dist-packages (from transformers) (2022.6.2)\n",
            "Requirement already satisfied: importlib-metadata in /usr/local/lib/python3.7/dist-packages (from transformers) (4.13.0)\n",
            "Requirement already satisfied: requests in /usr/local/lib/python3.7/dist-packages (from transformers) (2.23.0)\n",
            "Requirement already satisfied: tokenizers!=0.11.3,<0.14,>=0.11.1 in /usr/local/lib/python3.7/dist-packages (from transformers) (0.13.2)\n",
            "Requirement already satisfied: packaging>=20.0 in /usr/local/lib/python3.7/dist-packages (from transformers) (21.3)\n",
            "Requirement already satisfied: pyyaml>=5.1 in /usr/local/lib/python3.7/dist-packages (from transformers) (6.0)\n",
            "Requirement already satisfied: numpy>=1.17 in /usr/local/lib/python3.7/dist-packages (from transformers) (1.21.6)\n",
            "Requirement already satisfied: filelock in /usr/local/lib/python3.7/dist-packages (from transformers) (3.8.0)\n",
            "Requirement already satisfied: typing-extensions>=3.7.4.3 in /usr/local/lib/python3.7/dist-packages (from huggingface-hub<1.0,>=0.10.0->transformers) (4.1.1)\n",
            "Requirement already satisfied: pyparsing!=3.0.5,>=2.0.2 in /usr/local/lib/python3.7/dist-packages (from packaging>=20.0->transformers) (3.0.9)\n",
            "Requirement already satisfied: torch>=1.4.0 in /usr/local/lib/python3.7/dist-packages (from accelerate) (1.12.1+cu113)\n",
            "Requirement already satisfied: psutil in /usr/local/lib/python3.7/dist-packages (from accelerate) (5.4.8)\n",
            "Requirement already satisfied: zipp>=0.5 in /usr/local/lib/python3.7/dist-packages (from importlib-metadata->transformers) (3.10.0)\n",
            "Requirement already satisfied: urllib3!=1.25.0,!=1.25.1,<1.26,>=1.21.1 in /usr/local/lib/python3.7/dist-packages (from requests->transformers) (1.24.3)\n",
            "Requirement already satisfied: idna<3,>=2.5 in /usr/local/lib/python3.7/dist-packages (from requests->transformers) (2.10)\n",
            "Requirement already satisfied: certifi>=2017.4.17 in /usr/local/lib/python3.7/dist-packages (from requests->transformers) (2022.9.24)\n",
            "Requirement already satisfied: chardet<4,>=3.0.2 in /usr/local/lib/python3.7/dist-packages (from requests->transformers) (3.0.4)\n"
          ]
        }
      ]
    },
    {
      "cell_type": "code",
      "source": [
        "from transformers import pipeline"
      ],
      "metadata": {
        "id": "SRtYZmLCN-OT"
      },
      "execution_count": 2,
      "outputs": []
    },
    {
      "cell_type": "code",
      "source": [
        "\n",
        "model = pipeline(\"text-generation\", model=\"facebook/galactica-1.3b\")\n",
        "input_text = \"The neural network [START_REF]\"\n",
        "model(input_text)"
      ],
      "metadata": {
        "colab": {
          "base_uri": "https://localhost:8080/"
        },
        "id": "sXVXFfqHMTpK",
        "outputId": "d63b47ac-e92d-4150-987a-4c34eae4bc81"
      },
      "execution_count": 3,
      "outputs": [
        {
          "output_type": "stream",
          "name": "stderr",
          "text": [
            "/usr/local/lib/python3.7/dist-packages/transformers/generation_utils.py:1364: UserWarning: Neither `max_length` nor `max_new_tokens` has been set, `max_length` will default to 20 (`self.config.max_length`). Controlling `max_length` via the config is deprecated and `max_length` will be removed from the config in v5 of Transformers -- we recommend using `max_new_tokens` to control the maximum length of the generation.\n",
            "  UserWarning,\n"
          ]
        },
        {
          "output_type": "execute_result",
          "data": {
            "text/plain": [
              "[{'generated_text': 'The neural network [START_REF] Neural Networks For Pattern Recognition, Hinton is a mathematical model of the human'}]"
            ]
          },
          "metadata": {},
          "execution_count": 3
        }
      ]
    },
    {
      "cell_type": "code",
      "source": [
        "input_text = (\"Question: What is a graph in mathematic?\\n\\nAnswer:\")\n",
        "model(input_text)"
      ],
      "metadata": {
        "colab": {
          "base_uri": "https://localhost:8080/"
        },
        "id": "idMSWEcoMTsK",
        "outputId": "96cbb5f7-262b-48af-9097-256f2aaae504"
      },
      "execution_count": 4,
      "outputs": [
        {
          "output_type": "execute_result",
          "data": {
            "text/plain": [
              "[{'generated_text': 'Question: What is a graph in mathematic?\\n\\nAnswer: A graph is a set of vertices'}]"
            ]
          },
          "metadata": {},
          "execution_count": 4
        }
      ]
    },
    {
      "cell_type": "markdown",
      "source": [
        "## TLDR stands for \"Too Long; Didn't Read.\" "
      ],
      "metadata": {
        "id": "gwItsW1pSkiE"
      }
    },
    {
      "cell_type": "code",
      "source": [
        "# from abstract published here : https://paperswithcode.com/paper/deepfakes-and-beyond-a-survey-of-face\n",
        "TEXT = \"\"\"The free access to large-scale public databases, together with the fast progress of deep learning techniques, in particular Generative Adversarial Networks, \n",
        "have led to the generation of very realistic fake content with its corresponding implications towards society in this era of fake news. \n",
        "This survey provides a thorough review of techniques for manipulating face images including DeepFake methods, and methods to detect such manipulations. \n",
        "In particular, four types of facial manipulation are reviewed: i) entire face synthesis, ii) identity swap (DeepFakes), iii) attribute manipulation, \n",
        "and iv) expression swap. For each manipulation group, we provide details regarding manipulation techniques, existing public databases, and key benchmarks \n",
        "for technology evaluation of fake detection methods, including a summary of results from those evaluations. \n",
        "Among all the aspects discussed in the survey, we pay special attention to the latest generation of DeepFakes, highlighting its improvements and challenges \n",
        "for fake detection. In addition to the survey information, we also discuss open issues and future trends that should be considered to advance in the field.\"\"\"\n",
        "output = model(TEXT + \"\\n\\nTLDR:\", max_length=400)\n",
        "print('Original text:')\n",
        "TEXT"
      ],
      "metadata": {
        "colab": {
          "base_uri": "https://localhost:8080/",
          "height": 122
        },
        "id": "HBlymb7iMTuz",
        "outputId": "1569ef07-acf7-4972-b00b-bf82584c7a43"
      },
      "execution_count": 5,
      "outputs": [
        {
          "output_type": "stream",
          "name": "stdout",
          "text": [
            "Original text:\n"
          ]
        },
        {
          "output_type": "execute_result",
          "data": {
            "text/plain": [
              "'The free access to large-scale public databases, together with the fast progress of deep learning techniques, in particular Generative Adversarial Networks, \\nhave led to the generation of very realistic fake content with its corresponding implications towards society in this era of fake news. \\nThis survey provides a thorough review of techniques for manipulating face images including DeepFake methods, and methods to detect such manipulations. \\nIn particular, four types of facial manipulation are reviewed: i) entire face synthesis, ii) identity swap (DeepFakes), iii) attribute manipulation, \\nand iv) expression swap. For each manipulation group, we provide details regarding manipulation techniques, existing public databases, and key benchmarks \\nfor technology evaluation of fake detection methods, including a summary of results from those evaluations. \\nAmong all the aspects discussed in the survey, we pay special attention to the latest generation of DeepFakes, highlighting its improvements and challenges \\nfor fake detection. In addition to the survey information, we also discuss open issues and future trends that should be considered to advance in the field.'"
            ],
            "application/vnd.google.colaboratory.intrinsic+json": {
              "type": "string"
            }
          },
          "metadata": {},
          "execution_count": 5
        }
      ]
    },
    {
      "cell_type": "code",
      "source": [
        "# Here is the result...\n",
        "a = str(output[0])\n",
        "tldr = a.split(\"nTLDR: \")[1]\n",
        "print('% reduction after compression:', 1-(len(tldr)/len(TEXT)),'%')\n",
        "tldr"
      ],
      "metadata": {
        "colab": {
          "base_uri": "https://localhost:8080/",
          "height": 105
        },
        "id": "m_w2CN6jQCZJ",
        "outputId": "c421c884-b2db-4fd6-f45a-f41577710162"
      },
      "execution_count": 6,
      "outputs": [
        {
          "output_type": "stream",
          "name": "stdout",
          "text": [
            "% reduction after compression: 0.34497444633730834 %\n"
          ]
        },
        {
          "output_type": "execute_result",
          "data": {
            "text/plain": [
              "\"A comprehensive survey of facial manipulation techniques, including DeepFakes, and their detection.\\\\n\\\\n# 1 Introduction\\\\n\\\\nThe recent advances in deep learning techniques have led to the generation of very realistic fake content, which has been referred to as DeepFakes [ DeepFakes and Beyond: A Survey of Face Manipulation and Fake Detection, Tolosana].\\\\nThe term DeepFake refers to the manipulation of a person’s face image by using a deep learning model to generate a fake image that looks like the original one.\\\\nThe term DeepFake is used to distinguish it from other types of fake content, such as DeepFake videos, DeepFake images, and DeepFake videos.\\\\n\\\\nThe term DeepFake was first coined by the authors of [ DeepFakes and Beyond: A Survey of Face Manipulation'}\""
            ],
            "application/vnd.google.colaboratory.intrinsic+json": {
              "type": "string"
            }
          },
          "metadata": {},
          "execution_count": 6
        }
      ]
    },
    {
      "cell_type": "code",
      "source": [],
      "metadata": {
        "id": "ghocxo7aUyfx"
      },
      "execution_count": 6,
      "outputs": []
    }
  ]
}